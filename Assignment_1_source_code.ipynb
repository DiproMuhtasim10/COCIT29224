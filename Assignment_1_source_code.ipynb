{
  "nbformat": 4,
  "nbformat_minor": 0,
  "metadata": {
    "colab": {
      "provenance": []
    },
    "kernelspec": {
      "name": "python3",
      "display_name": "Python 3"
    },
    "language_info": {
      "name": "python"
    }
  },
  "cells": [
    {
      "cell_type": "markdown",
      "source": [
        "pso_nn_application.py\n",
        "\n",
        "Source Code for Enhancing Neural Network Performance using Particle Swarm Optimization (PSO)"
      ],
      "metadata": {
        "id": "E-4hDB7EChac"
      }
    },
    {
      "cell_type": "code",
      "execution_count": null,
      "metadata": {
        "id": "wzKCBYIMpKNU"
      },
      "outputs": [],
      "source": [
        "import random\n",
        "import warnings\n",
        "import numpy as np\n",
        "import matplotlib.pyplot as plt\n",
        "from sklearn.exceptions import ConvergenceWarning\n",
        "from sklearn.datasets import load_breast_cancer\n",
        "from sklearn.model_selection import train_test_split, GridSearchCV\n",
        "from sklearn.preprocessing import StandardScaler\n",
        "from sklearn.neural_network import MLPClassifier\n",
        "from sklearn.metrics import accuracy_score"
      ]
    },
    {
      "cell_type": "markdown",
      "source": [
        "Suppress warnings for cleaner output"
      ],
      "metadata": {
        "id": "WIUr6oKfCs55"
      }
    },
    {
      "cell_type": "code",
      "source": [
        "warnings.filterwarnings(\"ignore\", category=ConvergenceWarning)"
      ],
      "metadata": {
        "id": "z1Nh_0xVCuon"
      },
      "execution_count": null,
      "outputs": []
    },
    {
      "cell_type": "markdown",
      "source": [
        "Load dataset"
      ],
      "metadata": {
        "id": "z7NgodPnCxT5"
      }
    },
    {
      "cell_type": "code",
      "source": [
        "data = load_breast_cancer()\n",
        "X, y = data.data, data.target"
      ],
      "metadata": {
        "id": "DUIfLRs7Cyk5"
      },
      "execution_count": null,
      "outputs": []
    },
    {
      "cell_type": "markdown",
      "source": [
        "Standardize features"
      ],
      "metadata": {
        "id": "aOmTzVyXC0fi"
      }
    },
    {
      "cell_type": "code",
      "source": [
        "scaler = StandardScaler()\n",
        "X = scaler.fit_transform(X)"
      ],
      "metadata": {
        "id": "F9CV4a0hC2In"
      },
      "execution_count": null,
      "outputs": []
    },
    {
      "cell_type": "markdown",
      "source": [
        "Split into training and validation sets"
      ],
      "metadata": {
        "id": "5DB2AVcHC4WO"
      }
    },
    {
      "cell_type": "code",
      "source": [
        "X_train, X_val, y_train, y_val = train_test_split(X, y, test_size=0.2, random_state=42)"
      ],
      "metadata": {
        "id": "34wZ0HSgC6x5"
      },
      "execution_count": null,
      "outputs": []
    },
    {
      "cell_type": "markdown",
      "source": [
        "Traditional Grid Search CV"
      ],
      "metadata": {
        "id": "5kkYh91KDBRh"
      }
    },
    {
      "cell_type": "code",
      "source": [
        "print(\"\\n--- Performing Grid Search ---\")\n",
        "param_grid = {\n",
        "'hidden_layer_sizes': [(10,), (30,), (50,), (100,)],\n",
        "'learning_rate_init': [0.001, 0.01, 0.1],\n",
        "}\n",
        "mlp = MLPClassifier(max_iter=200, solver='adam', random_state=42)\n",
        "grid_search = GridSearchCV(mlp, param_grid, cv=3, scoring='accuracy')\n",
        "grid_search.fit(X_train, y_train)\n",
        "\n",
        "best_model_grid = grid_search.best_estimator_\n",
        "y_pred_grid = best_model_grid.predict(X_val)\n",
        "acc_grid = accuracy_score(y_val, y_pred_grid)\n",
        "\n",
        "print(\"Best GridSearch Params:\", grid_search.best_params_)\n",
        "print(\"GridSearch Validation Accuracy:\", acc_grid)"
      ],
      "metadata": {
        "id": "hLtJ85AHDDCh"
      },
      "execution_count": null,
      "outputs": []
    },
    {
      "cell_type": "markdown",
      "source": [
        "Particle Swarm Optimization"
      ],
      "metadata": {
        "id": "o3K-L9KIDGdC"
      }
    },
    {
      "cell_type": "code",
      "source": [
        "print(\"\\n--- Performing Particle Swarm Optimization ---\")\n",
        "SWARM_SIZE = 10\n",
        "DIMENSIONS = 2\n",
        "INFORMANTS = 3\n",
        "NUM_GENERATIONS = 20\n",
        "W = 0.729\n",
        "C1 = 1.49\n",
        "C2 = 1.49\n",
        "MIN_BOUNDARY = [0.0001, 5]\n",
        "MAX_BOUNDARY = [0.1, 100]\n",
        "desired_precision = 1e-5\n",
        "\n",
        "def fitness_function(position):\n",
        "lr = position[0]\n",
        "hidden = int(position[1])\n",
        "if hidden <= 0: hidden = 1\n",
        "clf = MLPClassifier(hidden_layer_sizes=(hidden,), learning_rate_init=lr,\n",
        "max_iter=200, solver='adam', random_state=42)\n",
        "clf.fit(X_train, y_train)\n",
        "pred = clf.predict(X_val)\n",
        "acc = accuracy_score(y_val, pred)\n",
        "return 1 - acc\n",
        "\n",
        "class Particle:\n",
        "def init(self):\n",
        "self.position = [random.uniform(MIN_BOUNDARY[d], MAX_BOUNDARY[d]) for d in range(DIMENSIONS)]\n",
        "self.velocity = [random.uniform(-1, 1) for _ in range(DIMENSIONS)]\n",
        "self.fitness = fitness_function(self.position)\n",
        "self.best_position = list(self.position)\n",
        "self.best_fitness = self.fitness\n",
        "self.informants = random.sample(range(SWARM_SIZE), INFORMANTS)\n",
        "self.group_best_position = list(self.position)\n",
        "self.group_best_fitness = self.fitness\n",
        "\n",
        "\n"
      ],
      "metadata": {
        "id": "4-UHy0vWDIPH"
      },
      "execution_count": null,
      "outputs": []
    },
    {
      "cell_type": "code",
      "source": [
        "def update_velocity(self):\n",
        "    for d in range(DIMENSIONS):\n",
        "        r1, r2 = random.random(), random.random()\n",
        "        cognitive = C1 * r1 * (self.best_position[d] - self.position[d])\n",
        "        social = C2 * r2 * (self.group_best_position[d] - self.position[d])\n",
        "        self.velocity[d] = W * self.velocity[d] + cognitive + social\n",
        "\n",
        "def update_position(self):\n",
        "    for d in range(DIMENSIONS):\n",
        "        self.position[d] += self.velocity[d]\n",
        "        self.position[d] = max(MIN_BOUNDARY[d], min(MAX_BOUNDARY[d], self.position[d]))\n",
        "    self.fitness = fitness_function(self.position)\n",
        "\n",
        "def update_group_best(self, swarm):\n",
        "    best_informant = min(self.informants, key=lambda i: swarm[i].best_fitness)\n",
        "    if swarm[best_informant].best_fitness < self.group_best_fitness:\n",
        "        self.group_best_fitness = swarm[best_informant].best_fitness\n",
        "        self.group_best_position = list(swarm[best_informant].best_position)"
      ],
      "metadata": {
        "id": "AWqGAiywDPG9"
      },
      "execution_count": null,
      "outputs": []
    },
    {
      "cell_type": "code",
      "source": [
        "swarm = [Particle() for _ in range(SWARM_SIZE)]\n",
        "global_best = min(swarm, key=lambda p: p.best_fitness)\n",
        "global_best_position = list(global_best.best_position)\n",
        "global_best_fitness = global_best.best_fitness\n",
        "\n",
        "pso_accuracies = []"
      ],
      "metadata": {
        "id": "V3I5Eg1gDQjZ"
      },
      "execution_count": null,
      "outputs": []
    },
    {
      "cell_type": "markdown",
      "source": [
        "PSO main loop"
      ],
      "metadata": {
        "id": "YMzZrHRnDSKg"
      }
    },
    {
      "cell_type": "code",
      "source": [
        "for gen in range(NUM_GENERATIONS):\n",
        "for particle in swarm:\n",
        "particle.update_group_best(swarm)\n",
        "particle.update_velocity()\n",
        "particle.update_position()\n",
        "if particle.fitness < particle.best_fitness:\n",
        "particle.best_fitness = particle.fitness\n",
        "particle.best_position = list(particle.position)"
      ],
      "metadata": {
        "id": "68C0zObRDdJ9"
      },
      "execution_count": null,
      "outputs": []
    },
    {
      "cell_type": "code",
      "source": [
        "best_particle = min(swarm, key=lambda p: p.best_fitness)\n",
        "if best_particle.best_fitness < global_best_fitness:\n",
        "    global_best_fitness = best_particle.best_fitness\n",
        "    global_best_position = list(best_particle.best_position)\n",
        "\n",
        "acc = 1 - global_best_fitness\n",
        "pso_accuracies.append(acc)\n",
        "print(f\"Generation {gen+1}: Best Accuracy = {acc:.4f}\")\n",
        "if global_best_fitness < desired_precision:\n",
        "    print(\"Desired precision reached.\")\n",
        "    break"
      ],
      "metadata": {
        "id": "GZwp3uJlDeJN"
      },
      "execution_count": null,
      "outputs": []
    },
    {
      "cell_type": "code",
      "source": [
        "print(\"\\nBest PSO Parameters:\")\n",
        "print(\"Learning Rate:\", round(global_best_position[0], 5))\n",
        "print(\"Hidden Neurons:\", int(global_best_position[1]))\n",
        "print(\"Validation Accuracy:\", 1 - gl"
      ],
      "metadata": {
        "id": "P_PoqtfcDget"
      },
      "execution_count": null,
      "outputs": []
    },
    {
      "cell_type": "markdown",
      "source": [
        "Plot accuracy trend"
      ],
      "metadata": {
        "id": "scJkBV2WDigR"
      }
    },
    {
      "cell_type": "code",
      "source": [
        "plt.figure(figsize=(10, 5))\n",
        "plt.plot(pso_accuracies, label='PSO Accuracy', marker='o')\n",
        "plt.axhline(y=acc_grid, color='r', linestyle='--', label='Grid Search Accuracy')\n",
        "plt.title('PSO vs Grid Search Accuracy')\n",
        "plt.xlabel('Generation')\n",
        "plt.ylabel('Validation Accuracy')\n",
        "plt.legend()\n",
        "plt.grid(True)\n",
        "plt.tight_layout()\n",
        "plt.savefig('pso_vs_grid.png')\n",
        "plt.show()"
      ],
      "metadata": {
        "id": "U9X6weuPDkkN"
      },
      "execution_count": null,
      "outputs": []
    }
  ]
}